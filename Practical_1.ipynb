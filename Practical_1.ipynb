{
  "nbformat": 4,
  "nbformat_minor": 0,
  "metadata": {
    "colab": {
      "provenance": [],
      "authorship_tag": "ABX9TyPHHt1f44dkXQ8/qCEdzorP",
      "include_colab_link": true
    },
    "kernelspec": {
      "name": "python3",
      "display_name": "Python 3"
    },
    "language_info": {
      "name": "python"
    }
  },
  "cells": [
    {
      "cell_type": "markdown",
      "metadata": {
        "id": "view-in-github",
        "colab_type": "text"
      },
      "source": [
        "<a href=\"https://colab.research.google.com/github/mruk09/ml-practicals/blob/main/Practical_1.ipynb\" target=\"_parent\"><img src=\"https://colab.research.google.com/assets/colab-badge.svg\" alt=\"Open In Colab\"/></a>"
      ]
    },
    {
      "cell_type": "code",
      "execution_count": 2,
      "metadata": {
        "id": "IDAgqWfeDavL"
      },
      "outputs": [],
      "source": [
        "import pandas as pd\n",
        "import numpy as np"
      ]
    },
    {
      "cell_type": "markdown",
      "source": [
        "Handling Missing Values"
      ],
      "metadata": {
        "id": "phqthI8iIQCn"
      }
    },
    {
      "cell_type": "code",
      "source": [
        "data = {'A': [1, 2, np.nan, 4, 5],\n",
        "'B': [np.nan, 2, 3, np.nan, 5],\n",
        "'C': [1, 2, 3, 4, 5]}\n",
        "df = pd.DataFrame(data)"
      ],
      "metadata": {
        "id": "utJFDVpDEUq6"
      },
      "execution_count": 3,
      "outputs": []
    },
    {
      "cell_type": "code",
      "source": [
        "print(df)"
      ],
      "metadata": {
        "colab": {
          "base_uri": "https://localhost:8080/"
        },
        "id": "BKcm3i4bEk6r",
        "outputId": "ab211975-c323-479e-809c-29890ba12bfb"
      },
      "execution_count": 4,
      "outputs": [
        {
          "output_type": "stream",
          "name": "stdout",
          "text": [
            "     A    B  C\n",
            "0  1.0  NaN  1\n",
            "1  2.0  2.0  2\n",
            "2  NaN  3.0  3\n",
            "3  4.0  NaN  4\n",
            "4  5.0  5.0  5\n"
          ]
        }
      ]
    },
    {
      "cell_type": "markdown",
      "source": [
        "Identify Missing Values"
      ],
      "metadata": {
        "id": "P2DNzKaUIWqh"
      }
    },
    {
      "cell_type": "code",
      "source": [
        "print(df.isnull())"
      ],
      "metadata": {
        "colab": {
          "base_uri": "https://localhost:8080/"
        },
        "id": "gmrtVmRgErNQ",
        "outputId": "cbb1da6f-ba17-480e-a4ec-7ecc4be6da36"
      },
      "execution_count": 5,
      "outputs": [
        {
          "output_type": "stream",
          "name": "stdout",
          "text": [
            "       A      B      C\n",
            "0  False   True  False\n",
            "1  False  False  False\n",
            "2   True  False  False\n",
            "3  False   True  False\n",
            "4  False  False  False\n"
          ]
        }
      ]
    },
    {
      "cell_type": "markdown",
      "source": [
        "Remove Rows or Columns"
      ],
      "metadata": {
        "id": "NCCWTuMRIliu"
      }
    },
    {
      "cell_type": "code",
      "source": [
        "df_dropped_rows = df.dropna(axis=0)"
      ],
      "metadata": {
        "id": "pDibpF6SEtp0"
      },
      "execution_count": 6,
      "outputs": []
    },
    {
      "cell_type": "code",
      "source": [
        "print(df_dropped_rows)"
      ],
      "metadata": {
        "colab": {
          "base_uri": "https://localhost:8080/"
        },
        "id": "jWW6RmFLE7ch",
        "outputId": "ed5c1ff2-43fa-4a5e-ad30-56617ba1aa11"
      },
      "execution_count": 7,
      "outputs": [
        {
          "output_type": "stream",
          "name": "stdout",
          "text": [
            "     A    B  C\n",
            "1  2.0  2.0  2\n",
            "4  5.0  5.0  5\n"
          ]
        }
      ]
    },
    {
      "cell_type": "code",
      "source": [
        "df_dropped_cols = df.dropna(axis=1)"
      ],
      "metadata": {
        "id": "zg-D1ALXFCTN"
      },
      "execution_count": 8,
      "outputs": []
    },
    {
      "cell_type": "code",
      "source": [
        "print(df_dropped_cols)"
      ],
      "metadata": {
        "colab": {
          "base_uri": "https://localhost:8080/"
        },
        "id": "6mKDIYhNFIR1",
        "outputId": "77c5545a-bffa-4b5a-e533-8d05231ba051"
      },
      "execution_count": 10,
      "outputs": [
        {
          "output_type": "stream",
          "name": "stdout",
          "text": [
            "   C\n",
            "0  1\n",
            "1  2\n",
            "2  3\n",
            "3  4\n",
            "4  5\n"
          ]
        }
      ]
    },
    {
      "cell_type": "code",
      "source": [
        "print(df)"
      ],
      "metadata": {
        "colab": {
          "base_uri": "https://localhost:8080/"
        },
        "id": "a5YCc42OFMp_",
        "outputId": "4c5457ff-c525-4be3-f7d4-2c2ffa540c1a"
      },
      "execution_count": 11,
      "outputs": [
        {
          "output_type": "stream",
          "name": "stdout",
          "text": [
            "     A    B  C\n",
            "0  1.0  NaN  1\n",
            "1  2.0  2.0  2\n",
            "2  NaN  3.0  3\n",
            "3  4.0  NaN  4\n",
            "4  5.0  5.0  5\n"
          ]
        }
      ]
    },
    {
      "cell_type": "markdown",
      "source": [
        "Imputation (fill the null values)"
      ],
      "metadata": {
        "id": "UZo25DZGIotZ"
      }
    },
    {
      "cell_type": "code",
      "source": [
        "df_imputed_mean = df.fillna(df.mean())"
      ],
      "metadata": {
        "id": "1QxahXYGFvjG"
      },
      "execution_count": 12,
      "outputs": []
    },
    {
      "cell_type": "code",
      "source": [
        "df_imputed_median = df.fillna(df.median())"
      ],
      "metadata": {
        "id": "iy_O6FklFyn9"
      },
      "execution_count": 13,
      "outputs": []
    },
    {
      "cell_type": "code",
      "source": [
        "df_imputed_mode = df.fillna(df.mode().iloc[0])"
      ],
      "metadata": {
        "id": "mqbbopn8F29m"
      },
      "execution_count": 14,
      "outputs": []
    },
    {
      "cell_type": "code",
      "source": [
        "print(df_imputed_mean)\n",
        "print(df_imputed_median)\n",
        "print(df_imputed_mode)"
      ],
      "metadata": {
        "colab": {
          "base_uri": "https://localhost:8080/"
        },
        "id": "uezowAytF4rX",
        "outputId": "4e639c30-d6da-46ad-9b0b-a1e8535f8fca"
      },
      "execution_count": 15,
      "outputs": [
        {
          "output_type": "stream",
          "name": "stdout",
          "text": [
            "     A         B  C\n",
            "0  1.0  3.333333  1\n",
            "1  2.0  2.000000  2\n",
            "2  3.0  3.000000  3\n",
            "3  4.0  3.333333  4\n",
            "4  5.0  5.000000  5\n",
            "     A    B  C\n",
            "0  1.0  3.0  1\n",
            "1  2.0  2.0  2\n",
            "2  3.0  3.0  3\n",
            "3  4.0  3.0  4\n",
            "4  5.0  5.0  5\n",
            "     A    B  C\n",
            "0  1.0  2.0  1\n",
            "1  2.0  2.0  2\n",
            "2  1.0  3.0  3\n",
            "3  4.0  2.0  4\n",
            "4  5.0  5.0  5\n"
          ]
        }
      ]
    },
    {
      "cell_type": "markdown",
      "source": [
        "Indicator Variable"
      ],
      "metadata": {
        "id": "8v9d_8XnIx2S"
      }
    },
    {
      "cell_type": "code",
      "source": [
        "df_indicator = df.copy()\n",
        "df_indicator['A_is_missing'] = df_indicator['A'].isnull()\n",
        "df_indicator['B_is_missing'] = df_indicator['B'].isnull()"
      ],
      "metadata": {
        "id": "VJfabhNIF-NO"
      },
      "execution_count": 16,
      "outputs": []
    },
    {
      "cell_type": "code",
      "source": [
        "print(df_indicator)"
      ],
      "metadata": {
        "colab": {
          "base_uri": "https://localhost:8080/"
        },
        "id": "__71T4PSGhyp",
        "outputId": "0103924e-691b-40fe-c53e-a18497d65e8d"
      },
      "execution_count": 17,
      "outputs": [
        {
          "output_type": "stream",
          "name": "stdout",
          "text": [
            "     A    B  C  A_is_missing  B_is_missing\n",
            "0  1.0  NaN  1         False          True\n",
            "1  2.0  2.0  2         False         False\n",
            "2  NaN  3.0  3          True         False\n",
            "3  4.0  NaN  4         False          True\n",
            "4  5.0  5.0  5         False         False\n"
          ]
        }
      ]
    },
    {
      "cell_type": "code",
      "source": [],
      "metadata": {
        "id": "PNDxJVfYGpal"
      },
      "execution_count": null,
      "outputs": []
    }
  ]
}